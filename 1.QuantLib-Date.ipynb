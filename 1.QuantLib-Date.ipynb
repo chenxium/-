{
 "cells": [
  {
   "cell_type": "code",
   "execution_count": 3,
   "metadata": {},
   "outputs": [],
   "source": [
    "import QuantLib as ql"
   ]
  },
  {
   "cell_type": "markdown",
   "metadata": {},
   "source": [
    "**Date 对象的构造方式有两种**\n",
    "\n",
    "+ Date(serialNumber)，其中 serialNumber 是一个整数，例如 24214，并且 1 对应 1899-12-31。这种用法和 Excel 中一样。（需要注意的是，在较新版本的 quantlib-python 中，serialNumber 的取值范围被限定在 367～109574，相应的日期范围是 1901-01-01 ～ 2199-12-31。）\n",
    "+ Date(d, m, y)，其中 d 和 y 是整数；m 是 quantlib-python 中预留的特殊对象，专门用来表示月份\n"
   ]
  },
  {
   "cell_type": "markdown",
   "metadata": {},
   "source": [
    "**Date对象可以和整数做运算**\n",
    "\n",
    "+ Period 对象的构造：Period(n, units)，其中 n 是时间间隔的个数；units 的取值范围是  quantlib-python 预留的四个特殊对象：Days、Weeks、Months、Years。"
   ]
  },
  {
   "cell_type": "code",
   "execution_count": 4,
   "metadata": {},
   "outputs": [
    {
     "name": "stdout",
     "output_type": "stream",
     "text": [
      "August 12th, 2009\n",
      "August 13th, 2009\n",
      "August 25th, 2009\n",
      "June 25th, 2009\n",
      "June 24th, 2009\n",
      "September 2nd, 2009\n"
     ]
    }
   ],
   "source": [
    "#Period 对象的构造\n",
    "myDate = ql.Date(12, ql.August, 2009)\n",
    "print(myDate)\n",
    "\n",
    "myDate = myDate + 1\n",
    "print(myDate)\n",
    "\n",
    "myDate = myDate + ql.Period(12, ql.Days)\n",
    "print(myDate)\n",
    "\n",
    "myDate = myDate - ql.Period(2, ql.Months)\n",
    "print(myDate)\n",
    "\n",
    "myDate = myDate - 1\n",
    "print(myDate)\n",
    "\n",
    "myDate = myDate + ql.Period(10, ql.Weeks)\n",
    "print(myDate)"
   ]
  },
  {
   "cell_type": "markdown",
   "metadata": {},
   "source": [
    "**一些常用的成员函数**\n",
    "\n",
    "+ weekday()：整数，返回星期对应的数字：星期日：1...星期六：7\n",
    "+ dayOfMonth()：整数，返回日期是所在月份的第几天\n",
    "+ dayOfYear()：整数，返回日期是所在年份的第几天\n",
    "+ month()：整数，返回日期对应的月份\n",
    "+ year()：整数，返回日期对应的年份\n",
    "+ serialNumber()整数，返回日期对应的天数（从 1899-12-31 开始）"
   ]
  },
  {
   "cell_type": "code",
   "execution_count": 5,
   "metadata": {},
   "outputs": [
    {
     "name": "stdout",
     "output_type": "stream",
     "text": [
      "Original Date : September 2nd, 2009\n",
      "Weekday : 4\n",
      "Day of Month : 2\n",
      "Day of Year : 245\n",
      "Month : 9\n",
      "Year : 2009\n",
      "Serial Number : 40058\n"
     ]
    }
   ],
   "source": [
    "print('Original Date :', myDate)\n",
    "print('Weekday :', myDate.weekday())\n",
    "print('Day of Month :', myDate.dayOfMonth())\n",
    "print('Day of Year :', myDate.dayOfYear())\n",
    "print('Month :', myDate.month())\n",
    "print('Year :', myDate.year())\n",
    "print('Serial Number :', myDate.serialNumber())"
   ]
  },
  {
   "cell_type": "markdown",
   "metadata": {},
   "source": [
    "**一些常用的静态函数**\n",
    "+ Date.todaysDate()：Date 对象，返回系统当前的日期\n",
    "+ Date.minDate()：Date 对象，返回 QuantLib 可表示的最小日期\n",
    "+ Date.maxDate()：Date 对象，返回 QuantLib 可表示的最大日期\n",
    "+ Date.isLeap(y)：布尔值，判断 y 是否闰年\n",
    "+ Date.endOfMonth(d)：Date 对象，返回日期 d 所在月份月末对应的日期\n",
    "+ Date.isEndOfMonth(d)：布尔值，判断 d 是否月末\n",
    "+ Date.nextWeekday(d, w)：Date 对象，返回日期 d 之后首个星期 w 对应的日期（例如 2018-03-12 之后第一个星期五）\n",
    "+ Date.nthWeekday(n, w, m, y)：Date 对象，返回所给月份 m 和年份 y 中的第 n 个星期 w 对应的日期（例如 2010 年七月的第三个星期三）"
   ]
  },
  {
   "cell_type": "code",
   "execution_count": 6,
   "metadata": {},
   "outputs": [
    {
     "name": "stdout",
     "output_type": "stream",
     "text": [
      "Today : February 10th, 2023\n",
      "Min Date : January 1st, 1901\n",
      "Max Date : December 31st, 2199\n",
      "Is Leap : False\n",
      "End of Month : August 31st, 2009\n",
      "Is Month End : False\n",
      "Is Month End : True\n",
      "Next WD : September 4th, 2009\n",
      "n-th WD : September 16th, 2009\n"
     ]
    }
   ],
   "source": [
    "print('Today :', ql.Date.todaysDate())\n",
    "print('Min Date :', ql.Date.minDate())\n",
    "print('Max Date :', ql.Date.maxDate())\n",
    "print('Is Leap :', ql.Date.isLeap(2011))\n",
    "print('End of Month :',ql.Date.endOfMonth(ql.Date(4, ql.August, 2009)))\n",
    "print('Is Month End :',ql.Date.isEndOfMonth(ql.Date(29, ql.September, 2009)))\n",
    "print('Is Month End :',ql.Date.isEndOfMonth(ql.Date(30, ql.September, 2009)))\n",
    "print('Next WD :',ql.Date.nextWeekday(ql.Date(1, ql.September, 2009), ql.Friday))#星期和日期的转换\n",
    "print('n-th WD :',ql.Date.nthWeekday(3, ql.Wednesday, ql.September, 2009))#星期和日期的转换"
   ]
  },
  {
   "cell_type": "markdown",
   "metadata": {},
   "source": [
    "**为估值计算配置日期**\n",
    "\n",
    "+ 为了方便日期配置，QuantLib 提供了一个全局变量用来配置估值日期。Settings.instance().evaluationDate 返回的就是当前的估值日期，这一日期是可配置的。"
   ]
  },
  {
   "cell_type": "code",
   "execution_count": 12,
   "metadata": {},
   "outputs": [
    {
     "name": "stdout",
     "output_type": "stream",
     "text": [
      "Eval Date : January 5th, 1995\n",
      "New Eval Date : January 5th, 1995\n"
     ]
    }
   ],
   "source": [
    "d = ql.Settings.instance().evaluationDate\n",
    "print('Eval Date :', d)\n",
    "\n",
    "ql.Settings.instance().evaluationDate = ql.Date(5, ql.January, 1995)\n",
    "d = ql.Settings.instance().evaluationDate\n",
    "print('New Eval Date :', d)"
   ]
  },
  {
   "cell_type": "code",
   "execution_count": null,
   "metadata": {},
   "outputs": [],
   "source": []
  }
 ],
 "metadata": {
  "kernelspec": {
   "display_name": "Python 3",
   "language": "python",
   "name": "python3"
  },
  "language_info": {
   "codemirror_mode": {
    "name": "ipython",
    "version": 3
   },
   "file_extension": ".py",
   "mimetype": "text/x-python",
   "name": "python",
   "nbconvert_exporter": "python",
   "pygments_lexer": "ipython3",
   "version": "3.8.5"
  }
 },
 "nbformat": 4,
 "nbformat_minor": 4
}
